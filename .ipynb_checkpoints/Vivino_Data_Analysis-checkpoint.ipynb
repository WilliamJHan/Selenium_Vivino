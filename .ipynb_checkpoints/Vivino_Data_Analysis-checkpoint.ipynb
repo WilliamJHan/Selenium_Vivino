{
 "cells": [
  {
   "cell_type": "code",
   "execution_count": 13,
   "metadata": {},
   "outputs": [],
   "source": [
    "import numpy as np\n",
    "import pandas as pd\n",
    "from matplotlib import pyplot as plt"
   ]
  },
  {
   "cell_type": "code",
   "execution_count": 4,
   "metadata": {
    "scrolled": true
   },
   "outputs": [
    {
     "data": {
      "text/html": [
       "<div>\n",
       "<style scoped>\n",
       "    .dataframe tbody tr th:only-of-type {\n",
       "        vertical-align: middle;\n",
       "    }\n",
       "\n",
       "    .dataframe tbody tr th {\n",
       "        vertical-align: top;\n",
       "    }\n",
       "\n",
       "    .dataframe thead th {\n",
       "        text-align: right;\n",
       "    }\n",
       "</style>\n",
       "<table border=\"1\" class=\"dataframe\">\n",
       "  <thead>\n",
       "    <tr style=\"text-align: right;\">\n",
       "      <th></th>\n",
       "      <th>winery</th>\n",
       "      <th>wine_type</th>\n",
       "      <th>city</th>\n",
       "      <th>country</th>\n",
       "      <th>wine_name</th>\n",
       "      <th>year</th>\n",
       "      <th>overall_rating</th>\n",
       "      <th>overall_rating_count</th>\n",
       "      <th>price</th>\n",
       "      <th>light_bold</th>\n",
       "      <th>smooth_tannic</th>\n",
       "      <th>dry_sweet</th>\n",
       "      <th>soft_acidic</th>\n",
       "    </tr>\n",
       "  </thead>\n",
       "  <tbody>\n",
       "    <tr>\n",
       "      <th>0</th>\n",
       "      <td>Daring Escape</td>\n",
       "      <td>Red wine</td>\n",
       "      <td>California</td>\n",
       "      <td>United States</td>\n",
       "      <td>Red</td>\n",
       "      <td>2017</td>\n",
       "      <td>4.2</td>\n",
       "      <td>30</td>\n",
       "      <td>6.99</td>\n",
       "      <td>75.7310</td>\n",
       "      <td>54.6576</td>\n",
       "      <td>6.92299</td>\n",
       "      <td>64.80330</td>\n",
       "    </tr>\n",
       "    <tr>\n",
       "      <th>1</th>\n",
       "      <td>Bodegas Aragonesas</td>\n",
       "      <td>Red wine</td>\n",
       "      <td>Campo de Borja</td>\n",
       "      <td>Spain</td>\n",
       "      <td>Don Ramón Pérez Juan</td>\n",
       "      <td>2018</td>\n",
       "      <td>3.9</td>\n",
       "      <td>1485</td>\n",
       "      <td>8.99</td>\n",
       "      <td>60.5850</td>\n",
       "      <td>33.9988</td>\n",
       "      <td>4.56559</td>\n",
       "      <td>39.85480</td>\n",
       "    </tr>\n",
       "    <tr>\n",
       "      <th>2</th>\n",
       "      <td>New Age</td>\n",
       "      <td>Red wine</td>\n",
       "      <td>Mendoza</td>\n",
       "      <td>Argentina</td>\n",
       "      <td>Tinto Dulce</td>\n",
       "      <td>-1</td>\n",
       "      <td>3.9</td>\n",
       "      <td>412</td>\n",
       "      <td>8.99</td>\n",
       "      <td>-1.0000</td>\n",
       "      <td>-1.0000</td>\n",
       "      <td>-1.00000</td>\n",
       "      <td>-1.00000</td>\n",
       "    </tr>\n",
       "    <tr>\n",
       "      <th>3</th>\n",
       "      <td>Bodegas Virgen de la Sierra</td>\n",
       "      <td>Red wine</td>\n",
       "      <td>Calatayud</td>\n",
       "      <td>Spain</td>\n",
       "      <td>OGV Old Vines Garnacha</td>\n",
       "      <td>2018</td>\n",
       "      <td>3.9</td>\n",
       "      <td>175</td>\n",
       "      <td>8.99</td>\n",
       "      <td>79.8066</td>\n",
       "      <td>35.5530</td>\n",
       "      <td>4.50972</td>\n",
       "      <td>45.23960</td>\n",
       "    </tr>\n",
       "    <tr>\n",
       "      <th>4</th>\n",
       "      <td>Mirassou</td>\n",
       "      <td>Red wine</td>\n",
       "      <td>California</td>\n",
       "      <td>United States</td>\n",
       "      <td>Merlot</td>\n",
       "      <td>2018</td>\n",
       "      <td>3.9</td>\n",
       "      <td>68</td>\n",
       "      <td>8.99</td>\n",
       "      <td>60.1532</td>\n",
       "      <td>15.9529</td>\n",
       "      <td>19.61040</td>\n",
       "      <td>8.63218</td>\n",
       "    </tr>\n",
       "  </tbody>\n",
       "</table>\n",
       "</div>"
      ],
      "text/plain": [
       "                        winery wine_type            city        country  \\\n",
       "0                Daring Escape  Red wine      California  United States   \n",
       "1           Bodegas Aragonesas  Red wine  Campo de Borja          Spain   \n",
       "2                      New Age  Red wine         Mendoza      Argentina   \n",
       "3  Bodegas Virgen de la Sierra  Red wine       Calatayud          Spain   \n",
       "4                     Mirassou  Red wine      California  United States   \n",
       "\n",
       "                wine_name  year  overall_rating  overall_rating_count  price  \\\n",
       "0                     Red  2017             4.2                    30   6.99   \n",
       "1    Don Ramón Pérez Juan  2018             3.9                  1485   8.99   \n",
       "2             Tinto Dulce    -1             3.9                   412   8.99   \n",
       "3  OGV Old Vines Garnacha  2018             3.9                   175   8.99   \n",
       "4                  Merlot  2018             3.9                    68   8.99   \n",
       "\n",
       "   light_bold  smooth_tannic  dry_sweet  soft_acidic  \n",
       "0     75.7310        54.6576    6.92299     64.80330  \n",
       "1     60.5850        33.9988    4.56559     39.85480  \n",
       "2     -1.0000        -1.0000   -1.00000     -1.00000  \n",
       "3     79.8066        35.5530    4.50972     45.23960  \n",
       "4     60.1532        15.9529   19.61040      8.63218  "
      ]
     },
     "execution_count": 4,
     "metadata": {},
     "output_type": "execute_result"
    }
   ],
   "source": [
    "# Import CSV\n",
    "Vivino = pd.read_csv('vivino_wine_final.csv',encoding = \"ISO-8859-1\")\n",
    "Vivino.head()"
   ]
  },
  {
   "cell_type": "code",
   "execution_count": 16,
   "metadata": {
    "scrolled": true
   },
   "outputs": [
    {
     "data": {
      "text/html": [
       "<div>\n",
       "<style scoped>\n",
       "    .dataframe tbody tr th:only-of-type {\n",
       "        vertical-align: middle;\n",
       "    }\n",
       "\n",
       "    .dataframe tbody tr th {\n",
       "        vertical-align: top;\n",
       "    }\n",
       "\n",
       "    .dataframe thead th {\n",
       "        text-align: right;\n",
       "    }\n",
       "</style>\n",
       "<table border=\"1\" class=\"dataframe\">\n",
       "  <thead>\n",
       "    <tr style=\"text-align: right;\">\n",
       "      <th></th>\n",
       "      <th>year</th>\n",
       "      <th>overall_rating</th>\n",
       "      <th>overall_rating_count</th>\n",
       "      <th>price</th>\n",
       "      <th>light_bold</th>\n",
       "      <th>smooth_tannic</th>\n",
       "      <th>dry_sweet</th>\n",
       "      <th>soft_acidic</th>\n",
       "    </tr>\n",
       "  </thead>\n",
       "  <tbody>\n",
       "    <tr>\n",
       "      <th>count</th>\n",
       "      <td>44933.000000</td>\n",
       "      <td>44933.000000</td>\n",
       "      <td>44933.000000</td>\n",
       "      <td>44933.000000</td>\n",
       "      <td>44933.000000</td>\n",
       "      <td>44933.000000</td>\n",
       "      <td>44933.00000</td>\n",
       "      <td>44933.000000</td>\n",
       "    </tr>\n",
       "    <tr>\n",
       "      <th>mean</th>\n",
       "      <td>2009.791445</td>\n",
       "      <td>3.998122</td>\n",
       "      <td>426.470345</td>\n",
       "      <td>75.365922</td>\n",
       "      <td>57.657922</td>\n",
       "      <td>41.819262</td>\n",
       "      <td>7.07189</td>\n",
       "      <td>48.690204</td>\n",
       "    </tr>\n",
       "    <tr>\n",
       "      <th>std</th>\n",
       "      <td>86.163109</td>\n",
       "      <td>0.338457</td>\n",
       "      <td>1242.434541</td>\n",
       "      <td>108.794727</td>\n",
       "      <td>22.172399</td>\n",
       "      <td>19.220620</td>\n",
       "      <td>7.65284</td>\n",
       "      <td>19.457715</td>\n",
       "    </tr>\n",
       "    <tr>\n",
       "      <th>min</th>\n",
       "      <td>-1.000000</td>\n",
       "      <td>-1.000000</td>\n",
       "      <td>-1.000000</td>\n",
       "      <td>-1.000000</td>\n",
       "      <td>-1.000000</td>\n",
       "      <td>-1.000000</td>\n",
       "      <td>-1.00000</td>\n",
       "      <td>-1.000000</td>\n",
       "    </tr>\n",
       "    <tr>\n",
       "      <th>25%</th>\n",
       "      <td>2012.000000</td>\n",
       "      <td>3.800000</td>\n",
       "      <td>56.000000</td>\n",
       "      <td>18.990000</td>\n",
       "      <td>44.732400</td>\n",
       "      <td>27.993300</td>\n",
       "      <td>1.74544</td>\n",
       "      <td>41.200100</td>\n",
       "    </tr>\n",
       "    <tr>\n",
       "      <th>50%</th>\n",
       "      <td>2015.000000</td>\n",
       "      <td>4.000000</td>\n",
       "      <td>129.000000</td>\n",
       "      <td>40.000000</td>\n",
       "      <td>62.650900</td>\n",
       "      <td>46.465100</td>\n",
       "      <td>5.32136</td>\n",
       "      <td>50.815800</td>\n",
       "    </tr>\n",
       "    <tr>\n",
       "      <th>75%</th>\n",
       "      <td>2017.000000</td>\n",
       "      <td>4.200000</td>\n",
       "      <td>361.000000</td>\n",
       "      <td>82.990000</td>\n",
       "      <td>77.118900</td>\n",
       "      <td>54.253300</td>\n",
       "      <td>9.68328</td>\n",
       "      <td>61.890800</td>\n",
       "    </tr>\n",
       "    <tr>\n",
       "      <th>max</th>\n",
       "      <td>2020.000000</td>\n",
       "      <td>4.900000</td>\n",
       "      <td>134439.000000</td>\n",
       "      <td>4499.970000</td>\n",
       "      <td>80.000000</td>\n",
       "      <td>80.000000</td>\n",
       "      <td>55.52860</td>\n",
       "      <td>80.000000</td>\n",
       "    </tr>\n",
       "  </tbody>\n",
       "</table>\n",
       "</div>"
      ],
      "text/plain": [
       "               year  overall_rating  overall_rating_count         price  \\\n",
       "count  44933.000000    44933.000000          44933.000000  44933.000000   \n",
       "mean    2009.791445        3.998122            426.470345     75.365922   \n",
       "std       86.163109        0.338457           1242.434541    108.794727   \n",
       "min       -1.000000       -1.000000             -1.000000     -1.000000   \n",
       "25%     2012.000000        3.800000             56.000000     18.990000   \n",
       "50%     2015.000000        4.000000            129.000000     40.000000   \n",
       "75%     2017.000000        4.200000            361.000000     82.990000   \n",
       "max     2020.000000        4.900000         134439.000000   4499.970000   \n",
       "\n",
       "         light_bold  smooth_tannic    dry_sweet   soft_acidic  \n",
       "count  44933.000000   44933.000000  44933.00000  44933.000000  \n",
       "mean      57.657922      41.819262      7.07189     48.690204  \n",
       "std       22.172399      19.220620      7.65284     19.457715  \n",
       "min       -1.000000      -1.000000     -1.00000     -1.000000  \n",
       "25%       44.732400      27.993300      1.74544     41.200100  \n",
       "50%       62.650900      46.465100      5.32136     50.815800  \n",
       "75%       77.118900      54.253300      9.68328     61.890800  \n",
       "max       80.000000      80.000000     55.52860     80.000000  "
      ]
     },
     "execution_count": 16,
     "metadata": {},
     "output_type": "execute_result"
    }
   ],
   "source": [
    "# Look at the numerical variables\n",
    "Vivino.describe()"
   ]
  },
  {
   "cell_type": "code",
   "execution_count": 29,
   "metadata": {
    "scrolled": true
   },
   "outputs": [
    {
     "data": {
      "text/plain": [
       "<matplotlib.collections.PathCollection at 0x224cccbde50>"
      ]
     },
     "execution_count": 29,
     "metadata": {},
     "output_type": "execute_result"
    },
    {
     "data": {
      "image/png": "[encoded data removed]",
      "text/plain": [
       "<Figure size 432x288 with 1 Axes>"
      ]
     },
     "metadata": {
      "needs_background": "light"
     },
     "output_type": "display_data"
    }
   ],
   "source": [
    "# Look at overall rating & price without the 'nulls' or -1\n",
    "Vivino_rate_price = Vivino[(Vivino['overall_rating'] != -1) & (Vivino['price'] != -1)]\n",
    "plt.scatter(Vivino_rate_price['price'],Vivino_rate_price['overall_rating'])"
   ]
  },
  {
   "cell_type": "code",
   "execution_count": 31,
   "metadata": {
    "scrolled": true
   },
   "outputs": [
    {
     "data": {
      "text/plain": [
       "Text(0, 0.5, 'Overall Rating')"
      ]
     },
     "execution_count": 31,
     "metadata": {},
     "output_type": "execute_result"
    },
    {
     "data": {
      "image/png": "[encoded data removed]",
      "text/plain": [
       "<Figure size 432x288 with 1 Axes>"
      ]
     },
     "metadata": {
      "needs_background": "light"
     },
     "output_type": "display_data"
    }
   ],
   "source": [
    "# Remove some outliers for visibility\n",
    "Vivino_rate_price2 = Vivino_rate_price[Vivino_rate_price['price'] < 2500]\n",
    "plt.scatter(Vivino_rate_price2['price'],Vivino_rate_price2['overall_rating'])\n",
    "plt.title('Price vs. Overall Rating', fontsize = 20)\n",
    "plt.xlabel('Price (Dollars)')\n",
    "plt.ylabel('Overall Rating')"
   ]
  },
  {
   "cell_type": "code",
   "execution_count": null,
   "metadata": {},
   "outputs": [],
   "source": []
  }
 ],
 "metadata": {
  "kernelspec": {
   "display_name": "Python 3",
   "language": "python",
   "name": "python3"
  },
  "language_info": {
   "codemirror_mode": {
    "name": "ipython",
    "version": 3
   },
   "file_extension": ".py",
   "mimetype": "text/x-python",
   "name": "python",
   "nbconvert_exporter": "python",
   "pygments_lexer": "ipython3",
   "version": "3.8.5"
  }
 },
 "nbformat": 4,
 "nbformat_minor": 4
}
