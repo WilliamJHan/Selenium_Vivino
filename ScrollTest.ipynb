{
 "cells": [
  {
   "cell_type": "code",
   "execution_count": 3,
   "metadata": {},
   "outputs": [],
   "source": [
    "from selenium import webdriver\n",
    "from selenium.webdriver.common.by import By\n",
    "from selenium.webdriver.support.ui import WebDriverWait\n",
    "from selenium.webdriver.support import expected_conditions as EC\n",
    "from selenium.webdriver.common.action_chains import ActionChains\n",
    "import csv\n",
    "import re\n",
    "import time\n",
    "\n",
    "# Set up chrome driver\n",
    "driver = webdriver.Chrome('C:\\\\Users\\\\JeongwooHan\\\\Desktop\\\\ChromeDriver\\\\chromedriver.exe')\n",
    "\n",
    "# Go to the page to scrape\n",
    "driver.get(\"https://www.vivino.com/explore?e=eJzLLbI1VMvNzLM1UMtNrLA1MTVQS660DQ1WSwYSLmoFQNn0NNuyxKLM1JLEHLX8JFu1fFu18pLoWKBMsW1iFQCWlBR6\")\n",
    "time.sleep(1)\n",
    "\n",
    "# Set up action chains\n",
    "actions = ActionChains(driver)\n",
    "\n",
    "# Scroll to the bottom\n",
    "SCROLL_PAUSE_TIME = 1.5\n",
    "last_height = driver.execute_script(\"return document.body.scrollHeight\")\n",
    "while True:\n",
    "    driver.execute_script(\"window.scrollTo(0, document.body.scrollHeight);\")\n",
    "    time.sleep(SCROLL_PAUSE_TIME)\n",
    "    new_height = driver.execute_script(\"return document.body.scrollHeight\")\n",
    "    if new_height == last_height:\n",
    "        break\n",
    "    last_height = new_height"
   ]
  }
 ],
 "metadata": {
  "kernelspec": {
   "display_name": "Python 3",
   "language": "python",
   "name": "python3"
  },
  "language_info": {
   "codemirror_mode": {
    "name": "ipython",
    "version": 3
   },
   "file_extension": ".py",
   "mimetype": "text/x-python",
   "name": "python",
   "nbconvert_exporter": "python",
   "pygments_lexer": "ipython3",
   "version": "3.8.5"
  }
 },
 "nbformat": 4,
 "nbformat_minor": 4
}
